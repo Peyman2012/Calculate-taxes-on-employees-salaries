{
 "cells": [
  {
   "cell_type": "code",
   "execution_count": 26,
   "metadata": {},
   "outputs": [
    {
     "name": "stdout",
     "output_type": "stream",
     "text": [
      "Enter account number(-1 to end):2\n"
     ]
    }
   ],
   "source": [
    "account=int(input(\"Enter account number(-1 to end):\"))"
   ]
  },
  {
   "cell_type": "code",
   "execution_count": 12,
   "metadata": {},
   "outputs": [
    {
     "name": "stdout",
     "output_type": "stream",
     "text": [
      "Enter beginning balace:2000000\n"
     ]
    }
   ],
   "source": [
    "beginningBalance=float(input(\"Enter beginning balace:\"))"
   ]
  },
  {
   "cell_type": "code",
   "execution_count": 3,
   "metadata": {},
   "outputs": [
    {
     "name": "stdout",
     "output_type": "stream",
     "text": [
      "Enter total charge:200000\n"
     ]
    }
   ],
   "source": [
    "totalCharge=float(input(\"Enter total charge:\"))"
   ]
  },
  {
   "cell_type": "code",
   "execution_count": 4,
   "metadata": {},
   "outputs": [
    {
     "name": "stdout",
     "output_type": "stream",
     "text": [
      "Enter total creite:500000\n"
     ]
    }
   ],
   "source": [
    "totalCreite=float(input(\"Enter total creite:\"))"
   ]
  },
  {
   "cell_type": "code",
   "execution_count": 5,
   "metadata": {},
   "outputs": [
    {
     "name": "stdout",
     "output_type": "stream",
     "text": [
      "Enter creite limited:400000\n"
     ]
    }
   ],
   "source": [
    "creiteLimite=float(input(\"Enter creite limited:\"))"
   ]
  },
  {
   "cell_type": "code",
   "execution_count": 14,
   "metadata": {},
   "outputs": [
    {
     "name": "stdout",
     "output_type": "stream",
     "text": [
      "Account: 2\n",
      "Creite limite: 400000\n",
      "lance: 2100000\n",
      "Criet Limited Exceeded\n"
     ]
    }
   ],
   "source": [
    "if beginningBalance+totalCreite-totalCharge>creiteLimite:\n",
    "    print(\"Account:\",account)\n",
    "    print(\"Creite limite:\",creiteLimite)\n",
    "    print(\"lance:\",beginningBalance+totalCreite-creiteLimite)\n",
    "    print(\"Criet Limited Exceeded\")"
   ]
  },
  {
   "cell_type": "code",
   "execution_count": 32,
   "metadata": {},
   "outputs": [
    {
     "name": "stdout",
     "output_type": "stream",
     "text": [
      "Enter account number(-1 to end):2\n",
      "Enter beginning balace:200000\n",
      "Enter total charge:2000\n",
      "Enter total creite:2000\n",
      "Enter creite limited:4000\n",
      "Account: 2\n",
      "Creite limite: 4000.0\n",
      "lance: 198000.0\n",
      "Criet Limited Exceeded\n",
      "Enter account number(-1 to end):-1\n"
     ]
    }
   ],
   "source": [
    "while True:\n",
    "    account=int(input(\"Enter account number(-1 to end):\"))\n",
    "    if account==-1:\n",
    "        break\n",
    "    beginningBalance=float(input(\"Enter beginning balace:\"))\n",
    "    totalCharge=float(input(\"Enter total charge:\"))\n",
    "    totalCreite=float(input(\"Enter total creite:\"))\n",
    "    creiteLimite=float(input(\"Enter creite limited:\"))\n",
    "    if beginningBalance+totalCreite-totalCharge>creiteLimite:\n",
    "        print(\"Account:\", account)\n",
    "        print(\"Creite limite:\",creiteLimite)\n",
    "        print(\"lance:\",beginningBalance+totalCreite-creiteLimite)\n",
    "        print(\"Criet Limited Exceeded\")"
   ]
  },
  {
   "cell_type": "code",
   "execution_count": null,
   "metadata": {},
   "outputs": [],
   "source": []
  }
 ],
 "metadata": {
  "kernelspec": {
   "display_name": "Python 3",
   "language": "python",
   "name": "python3"
  },
  "language_info": {
   "codemirror_mode": {
    "name": "ipython",
    "version": 3
   },
   "file_extension": ".py",
   "mimetype": "text/x-python",
   "name": "python",
   "nbconvert_exporter": "python",
   "pygments_lexer": "ipython3",
   "version": "3.6.13"
  }
 },
 "nbformat": 4,
 "nbformat_minor": 2
}
